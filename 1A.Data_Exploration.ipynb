{
 "cells": [
  {
   "cell_type": "markdown",
   "metadata": {},
   "source": [
    "<center> <img style=\"float: center;\" src=\"images/CI_horizontal.png\" width=\"450\">\n",
    "<center>\n",
    "    <span style=\"font-size: 1.5em;\">\n",
    "        <a href='https://www.coleridgeinitiative.org'>Website</a>\n",
    "    </span> \n",
    "    <br>\n",
    "    Joseph Chappell, Benjamin Feder, Nathan Barrett</center>\n",
    "    <a href=\"https://doi.org/10.5281/zenodo.6407247\"><img src=\"https://zenodo.org/badge/DOI/10.5281/zenodo.6407247.svg\" alt=\"DOI\"></a>\n"
   ]
  },
  {
   "cell_type": "markdown",
   "metadata": {},
   "source": [
    "# <center> **Data Exploration: Tennessee Community Colleges** </center>"
   ]
  },
  {
   "cell_type": "markdown",
   "metadata": {},
   "source": [
    "## **1. Introduction**\n",
    "Historically, state agencies used their own administrative data to administer programs and complete required reporting. Legal, technological, and human resource barriers prevented the use of data to assist policymakers in making decisions. Accordingly, data were siloed at the agency level and rarely leveraged to evaluate or inform policy development within or across agencies. Through a concerted effort supported by the Statewide Longitudinal Data System (SLDS) Grant Program, states have gradually come together to address this limitation. In this course, you will learn how to review, understand, and link data from different agencies. You will also uncover real-life problems in using the data (such as missing data, errors in the data, and complex data structures) and learn how to address them. "
   ]
  },
  {
   "cell_type": "markdown",
   "metadata": {},
   "source": [
    "This notebook introduces you to the concept of creating a group or a \"cohort\" that will be used for future analysis. We will construct measures to understand who we are including and excluding (coverage) from the cohort and walk you through the decisions that need to be made when constructing the cohort using filters such as award level, gender, major, and others. We begin with introducing you to the data analytical tools to access the data, including connecting R to the server and using SQL queries to pull the data. We will then use these tools to explore completions files from the Tennessee Board of Regents (TBR). We will create a dataset (called a \"data frame\") and investigate trends in Tennessee community college graduates. At the end of this notebook, we will save the summary statistics in csv files to be used in subsequent notebooks."
   ]
  },
  {
   "cell_type": "markdown",
   "metadata": {},
   "source": [
    "## **2. Learning Objectives**\n",
    "\n",
    "The Applied Data Analytics training uses a project-based approach to develop your analytic skills. You will begin by working with your team to develop and refine a research question. A crucial part of this is data exploration. You will implement techniques using SQL and R to explore and better understand the data that are available to you and address the feasibility of your question. This will form the basis for all future analyses you will do in this class and is a crucial first step for any data analysis workflow. As you work through the notebook, we will have checkpoints for you to practice writing code by making small adjustments, but you can also think about how you might apply any of the techniques and code presented to other datasets to address your research question. \n",
    "\n",
    "The guiding research questions we will use for this series of notebooks are quite general: \n",
    "\n",
    ">**What are the employment outcomes of the 2015-16 community college graduates? How do these outcomes vary by cohort characteristics and employer characteristics?**\n",
    "\n",
    "This will allow the code we use to have the most versatility. We will analyze these questions through a variety of different lenses, and will start in this notebook by defining a specific cohort of Tennessee associate's degree recipients in the 2015-2016 academic year. We will then track their earnings and employment outcomes over time in the following notebook. The exploration of the supply side of the labor market will be later supplemented by an analysis of the demand side to enhance our understanding of the overall labor market.\n",
    "\n",
    "We are going to show just a portion of what you might be interested in investigating to answer these overarching questions, so don't feel restricted by the questions we've decided to try to answer.\n",
    "\n",
    ">**When defining your research question(s), recall that one key benefit of working with Tennessee administrative records in the ADRF is the ability to integrate higher education and employment data.**"
   ]
  },
  {
   "cell_type": "markdown",
   "metadata": {},
   "source": [
    "#### **Digging into the literature**\n",
    "\n",
    "Once a research question is posed&mdash;or a general research topic has been identified&mdash;it is always recommended to thoroughly seek out and examine any current literature/research pertaining to the topic. Previous studies and articles should help direct your research as they can...\n",
    "- ...document what has and has not been investigated.\n",
    "- ...demonstrate how others have defined and/or measured key concepts.\n",
    "- ...provide a foundation for additional research.\n",
    "- ...contribute confirmatory/contradictory findings.\n",
    "- ...place your research into context."
   ]
  },
  {
   "cell_type": "markdown",
   "metadata": {},
   "source": [
    "A brief search for research articles pertaining to employment outcomes of community college graduates yields numerous articles including the following:\n",
    "\n",
    "- Stevens, A. H., Kurlaender, M., & Grosz, M. (2019). Career technical education and labor market outcomes evidence from California community colleges. <em>Journal of Human Resources</em>, <em>54</em>(4), 986&mdash;1036.\n",
    "- Minaya, V., & Scott-Clayton, J. (2020). Labor Market Trajectories for Community College Graduates: How Returns to Certificates and Associate's degrees Evolve Over Time. <em>Education Finance and Policy</em>, 1&mdash;62.\n",
    "- Carruthers, C. K., Fox, W. F., & Jepsen, C. (2020). Promise Kept? Free Community College, Attainment, and Earnings in Tennessee. February 2020 (work in progress). <em>WORK</em>.\n",
    "- Stobierski, T. (2020, June 9). Average Salary by Education Level: The Value of a College Degree. <em>Northeastern University</em>. https://www.northeastern.edu/bachelors-completion/news/average-salary-by-education-level/\n",
    "\n",
    "While the articles you find may not directly address your research questions/topics, they are valuable in refining your research question(s) and methodolgy. For example, the Carruthers, Fox, & Jepsen (2020) paper contains ample information regarding policy relevance and context. Similarly, you could see an opportunity to expand on the research by Stobierski (2020) who found differences in earnings by education level; however, Stobierski was limited to public use data from the U.S. Bureau of Labor statistics. The microdata available via the ADRF would enable you to examine this in far greater detail and place the results within the context of an individual state. You may find research, such as the article authored by Minaya & Scott-Clayton (2020), that closely aligns with your topic of interest. In these instances you may find helpful information regarding conceptional framework and methodology.\n",
    "\n",
    "> The research articles are available on the course webpage outside of the ADRF."
   ]
  },
  {
   "cell_type": "markdown",
   "metadata": {},
   "source": [
    "#### **Notebook 1a Questions and Goals** \n",
    "In this notebook, we focus on seeking answers to the following questions: \n",
    "- How many students graduated from Tennessee community colleges in the 2015-16 academic year?\n",
    "- What filters can be used to define the cohort (e.g., demographics, institutions, enrollment type, etc.)?\n",
    "- How many students graduated from Tennessee community colleges by subgroup (e.g. demographics, institutions, enrollment type, etc.)?"
   ]
  },
  {
   "cell_type": "markdown",
   "metadata": {},
   "source": [
    "After completing this notebook you should be able to perform the following analytical tasks:\n",
    "- load R libraries and establish a connection to the server\n",
    "- create a cohort sample by using the TBR completions file\n",
    "- calculate descriptive statistics to understand who is in the population\n",
    "- create new tables from the larger tables in a database (sometimes called the \"analytical frame\")\n",
    "- explore different variables of interest\n",
    "- clean data\n",
    "- create aggregate metrics"
   ]
  },
  {
   "cell_type": "markdown",
   "metadata": {},
   "source": [
    "The specific techniques include but not limited to:\n",
    "- **SQL statements/keywords**:\n",
    " - `SELECT ... FROM`: select data from a table in the database\n",
    " - `WHERE`: select subset of tables from the database\n",
    " - `GROUP BY`: aggregate data over the variables of interest\n",
    " - `ORDER BY`: sort data based on the variables of interest\n",
    " - `DISTINCT`: look at distinct values of a variable\n",
    " - `JOIN ... ON`: join tables\n",
    "- **R code**:\n",
    " - `group_by` and `summarize` to find group-based measures\n",
    " - `mutate` to create new variables\n",
    " - `arrange` and `desc` to sort values"
   ]
  },
  {
   "cell_type": "markdown",
   "metadata": {},
   "source": [
    "#### **Datasets** ####\n",
    "We will explore and understand the Tennessee Board of Regents (TBR) tables in this notebook:\n",
    "- **Community College Graduates**: The graduates table is provided by TBR. The data include graduations at all TBR community colleges and covers the time period of summer 2009 through fall 2020.\n",
    "- **Community College Enrollments**:  Also provided by TBR and contains all enrollment data at TBR community colleges from summer 2009 through fall 2020.\n",
    "\n",
    "> **NOTE:** Only public 2-year institutions and Tennessee Colleges of Applied Technology (TCATs) institutions report data to TBR. Additional data regarding completions beyond TBR's governance can be found in the post-TBR graduation data."
   ]
  },
  {
   "cell_type": "markdown",
   "metadata": {},
   "source": [
    "#### **Directory Structure**\n",
    "\n",
    "We will constantly read and write csv files to load crosswalks and to save results in all the notebooks. Let's create a few folders in your U drive first so it is eaiser for you to organize all the files. \n",
    "\n",
    "- Open Windows File Explorer\n",
    "- On the left hand side, find U drive (U:) and click into it\n",
    "- On the right hand side, open your user folder: FirstName.LastName.UserID\n",
    "- In your user folder, create a new folder: TN Training\n",
    "- In the \"TN Training\" folder, create three subfolders: \"Notebooks\", \"Results\", \"Output\"\n",
    "- You can copy and paste the class notebooks to the \"Notebook\" folder, save summary statistics to the \"Results\" folder, and save visualizations (in the third notebook) to the \"Output\" folder.\n",
    "\n",
    "For example, at the end of this notebook, **we save summary statistics to \"U:\\\\FirstName.LastName.UserID\\TN Training\\Results\\filename.csv\"**.\n"
   ]
  },
  {
   "cell_type": "markdown",
   "metadata": {},
   "source": [
    "## **3. Load the Data**\n",
    "\n",
    "In this section, we will demonstrate how to use R to read data from a relational database. First, we need to load libraries in R."
   ]
  },
  {
   "cell_type": "markdown",
   "metadata": {},
   "source": [
    "#### **R Setup**\n",
    "\n",
    "We will use several R functions that are not immediately available in base R. Therefore, we need to load them using the built-in function `library()`. For example, running `library(tidyverse)` loads the `tidyverse` suite of packages. It is a collection of packages designed for data science.\n",
    "\n",
    "> When you run the following code cell, don't worry about the warning message below."
   ]
  },
  {
   "cell_type": "code",
   "execution_count": null,
   "metadata": {},
   "outputs": [],
   "source": [
    "# Database interaction imports\n",
    "library(odbc)\n",
    "\n",
    "# For data manipulation/visualization\n",
    "library(tidyverse)\n",
    "\n",
    "# For faster date conversions\n",
    "library(lubridate)"
   ]
  },
  {
   "cell_type": "markdown",
   "metadata": {},
   "source": [
    "__When in doubt, full documentation for a method can be printed with `?<package/function_name>`, e.g. `?tidyverse/ggplot` or `?sprintf`.__ Do not worry about memorizing the information in the help documentation - you can always run this command when you are unsure of how to use a function.\n",
    "\n",
    "> Certain functions exist across multiple packages (e.g. the function `lag` exists in both the `dplyr` and `stats` package - also noted in the message yielded from `library(tidyverse)`. When calling a function, you can put the package name first to ensure that you are using the right one. For example, `dplyr::lag` or `stats::lag` calls the `lag` function from `dplyr` or `stats`, respectively. "
   ]
  },
  {
   "cell_type": "code",
   "execution_count": null,
   "metadata": {
    "tags": []
   },
   "outputs": [],
   "source": [
    "# See help documentation for head:\n",
    "# a function we will use frequently to check the content of a table\n",
    "# It returns the first few rows of a table\n",
    "?head"
   ]
  },
  {
   "cell_type": "markdown",
   "metadata": {},
   "source": [
    "#### **Establish a Connection to the Server**"
   ]
  },
  {
   "cell_type": "markdown",
   "metadata": {},
   "source": [
    "Now, we are ready to connect to the server. We will create the connection using the `DBI`  and `ODBC` libraries. \n",
    "\n",
    "> **Loading R libraries** and **establishing connection** should always be the first step in your Jupyter Notebooks. Make sure you copy these code chunks when you create a new notebook."
   ]
  },
  {
   "cell_type": "code",
   "execution_count": null,
   "metadata": {},
   "outputs": [],
   "source": [
    "# Connect to the server\n",
    "con <- DBI::dbConnect(odbc::odbc(),\n",
    "                     Driver = \"SQL Server\",\n",
    "                     Server = \"msssql01.c7bdq4o2yhxo.us-gov-west-1.rds.amazonaws.com\",\n",
    "                     Trusted_Connection = \"True\")"
   ]
  },
  {
   "cell_type": "markdown",
   "metadata": {},
   "source": [
    "#### **Formulate Data Query**\n",
    "\n",
    "Next, we need to dictate what we want to pull in from the database. This part is similar to writing a SQL query in DBeaver. In this example, we will pull in 20 rows of Tennessee community college graduates information, which is stored in the `graduations` table inside the `ds_tn_tbr` schema. Before running the code below, test the inital query you will use to bring in your first data frame to make sure it successfully runs in DBeaver:\n",
    "\n",
    "    SELECT TOP 20 *\n",
    "    FROM ds_tn_tbr.dbo.graduations ;\n",
    "\n",
    "We can create the same query as a `character` object in R."
   ]
  },
  {
   "cell_type": "code",
   "execution_count": null,
   "metadata": {
    "tags": []
   },
   "outputs": [],
   "source": [
    "# Create qry character object\n",
    "# Database name: ds_tn_tbr\n",
    "# Schema name: dbo\n",
    "# Table name: graduations\n",
    "qry <- \"\n",
    "SELECT TOP 20 *\n",
    "FROM ds_tn_tbr.dbo.graduations;\n",
    "\""
   ]
  },
  {
   "cell_type": "markdown",
   "metadata": {},
   "source": [
    "We use `TOP` to read in only the first 20 rows because we're just looking to preview the data and we don't want to eat up memory by reading a huge data frame into R. \n",
    "\n",
    "> `TOP` provides one simple way to get a \"sample\" of data. You may get different samples of data from others using just the `TOP` clause. However, it is not because you get a random sample by using `TOP`. It is because the database returns the results that can be pulled the fastest."
   ]
  },
  {
   "cell_type": "markdown",
   "metadata": {},
   "source": [
    "#### **Read in the Data** \n",
    "\n",
    "Now we can use `con` and `qry` as inputs to `dbGetQuery()` to read the data into R. Compare the results below with the test query you made in DBeaver. To run the code without saving it to a data frame for later reference, you can simply include `dbGetQuery(con,qry)`, as shown below."
   ]
  },
  {
   "cell_type": "code",
   "execution_count": null,
   "metadata": {},
   "outputs": [],
   "source": [
    "# Read in data frame \n",
    "dbGetQuery(con,qry)"
   ]
  },
  {
   "cell_type": "code",
   "execution_count": null,
   "metadata": {},
   "outputs": [],
   "source": [
    "# See first few rows\n",
    "dbGetQuery(con, qry) %>%\n",
    "    head()"
   ]
  },
  {
   "cell_type": "markdown",
   "metadata": {},
   "source": [
    "> Note: There are other methods you can use to explore the data. Two of these functions are `glimpse` and `names`."
   ]
  },
  {
   "cell_type": "markdown",
   "metadata": {},
   "source": [
    "#### **Checkpoint 1: Explore Columns**\n",
    "\n",
    "Take a look at the columns in the `graduations` table. Which variables might be useful for your project?  Let's explore another table.  Try to query another higher education data table. Explore the `enrollments` table in the `ds_tn_tbr` database.\n",
    "\n",
    "> Refer to the data dictionary on the class website to get a better understanding of the variables."
   ]
  },
  {
   "cell_type": "code",
   "execution_count": null,
   "metadata": {},
   "outputs": [],
   "source": [
    "# Replace ____ with the table database and table name\n",
    "qry <- \"\n",
    "SELECT TOP 20 *\n",
    "FROM ___.___.__;\n",
    "\"\n",
    "\n",
    "# Read in data frame\n",
    "dbGetQuery(con,qry)\n",
    "\n",
    "# Can write code to explore the data frame\n",
    "dbGetQuery(con, qry) %>%\n",
    "    ____()"
   ]
  },
  {
   "cell_type": "markdown",
   "metadata": {},
   "source": [
    "-----"
   ]
  },
  {
   "cell_type": "markdown",
   "metadata": {},
   "source": [
    "## **4. Explore the table and understand the data**\n",
    "\n",
    "Before building a cohort, it is important to understand the quality of the data. Since we will be creating a cohort of graduates, it is important to note that the `graduations` table lists awards, not people. Each row represents a person-degree/credential-major. The data are not always clean. Before creating the cohort it is useful to understand missing values, changes in trends, and inconsistent data. \n",
    "\n",
    "Since we hope to create a cohort of graduates that graduated within a specific time period (2015-16 academic year) so that we can track their future employment outcomes as a group, let's take a look at the distribution of the number of graduates by year, or `YearAward` in the data.\n",
    "\n",
    "Try running the following query in DBeaver to understand the kinds of information you will be bringing into your data frame:\n",
    "\n",
    "    SELECT YearAward, count(DISTINCT(ssn)) as num_individuals\n",
    "    FROM ds_tn_tbr.dbo.graduations\n",
    "    GROUP BY YearAward\n",
    "    ORDER BY YearAward desc;\n",
    "\n",
    "Now run the query in R and review the results.\n",
    "\n",
    "> **NOTE:** Ctrl+C and Ctrl+V can be used to copy and paste text within the ADRF. "
   ]
  },
  {
   "cell_type": "code",
   "execution_count": null,
   "metadata": {},
   "outputs": [],
   "source": [
    "# Exploration query on award year earned\n",
    "qry <- \"\n",
    "SELECT YearAward, count(DISTINCT(SSN)) as num_individuals\n",
    "FROM ds_tn_tbr.dbo.graduations\n",
    "GROUP BY YearAward\n",
    "ORDER BY YearAward desc;\n",
    "\"\n",
    "\n",
    "# Read in data frame and but don't save the results\n",
    "dbGetQuery(con,qry)"
   ]
  },
  {
   "cell_type": "markdown",
   "metadata": {},
   "source": [
    "    \n",
    "> **NOTE:** 2009 appears to have far fewer records than the subsequent years. This is not an error; rather, the 2009 calendar year only includes graduates that would be included in the 2009-2010 graduating cohort. \n",
    "\n",
    "As you can see, we have quite a large number of potential graduates to pull from. However, the academic year of 2015-2016 includes some graduates from 2015, and others from 2016. To get a better sense of our potential sample size, let's look at the number of individuals that graduated by term in 2015 and 2016 using the following query:"
   ]
  },
  {
   "cell_type": "markdown",
   "metadata": {},
   "source": [
    "    SELECT TermDesc, TermAward, YearAward, count(DISTINCT(ssn)) as num_individuals\n",
    "    FROM ds_tn_tbr.dbo.graduations\n",
    "    WHERE YearAward = 2015 OR YearAward = 2016\n",
    "    GROUP BY TermDesc, TermAward, YearAward\n",
    "    ORDER BY YearAward, TermAward ;"
   ]
  },
  {
   "cell_type": "code",
   "execution_count": null,
   "metadata": {},
   "outputs": [],
   "source": [
    "# Exploration query on YearAward and TermAward\n",
    "qry <- \"\n",
    "SELECT TermDesc, TermAward, YearAward, count(DISTINCT(SSN)) as num_individuals\n",
    "FROM ds_tn_tbr.dbo.graduations\n",
    "WHERE YearAward = 2015 OR YearAward = 2016\n",
    "GROUP BY YearAward, TermAward, TermDesc\n",
    "ORDER BY YearAward;\n",
    "\"\n",
    "\n",
    "# Read in data frame but don't save the results\n",
    "dbGetQuery(con,qry)"
   ]
  },
  {
   "cell_type": "markdown",
   "metadata": {},
   "source": [
    "Now that we have a general understanding of the volume of graduates in each term and calendar year, let's read the data into R and save the resulting data frame as `df`."
   ]
  },
  {
   "cell_type": "code",
   "execution_count": null,
   "metadata": {},
   "outputs": [],
   "source": [
    "# read table into r and assign as df\n",
    "qry <- \"\n",
    "select *\n",
    "from ds_tn_tbr.dbo.graduations\n",
    "where YearAward = 2015 or YearAward = 2016\n",
    "\"\n",
    "df<-dbGetQuery(con, qry)\n",
    "\n",
    "# see first few rows of df\n",
    "head(df)"
   ]
  },
  {
   "cell_type": "markdown",
   "metadata": {},
   "source": [
    "#### **Checkpoint 2: Explore the Data** \n",
    "\n",
    "This checkpoint has two parts. Run the following queries in the cells below to better understand some key variables of interest:\n",
    "\n",
    "    SELECT YearAward, CIP_Family, count(DISTINCT(ssn)) as num_individuals\n",
    "    FROM ds_tn_tbr.dbo.graduations\n",
    "    GROUP BY YearAward, CIP_Family\n",
    "    ORDER BY YearAward ;\n",
    "\n",
    "    SELECT YearAward, AwardType, count(DISTINCT(ssn)) as num_individuals\n",
    "    FROM ds_tn_tbr.dbo.graduations\n",
    "    GROUP BY YearAward, AwardType\n",
    "    ORDER BY YearAward ;\n",
    "\n",
    "After reviewing the results from the queries above, try to answer the following questions:\n",
    "1. Are there null values in the data you are seeing?\n",
    "1. Do you see any obvious problems in the data? "
   ]
  },
  {
   "cell_type": "code",
   "execution_count": null,
   "metadata": {},
   "outputs": [],
   "source": [
    "# Replace ___ in query to understand CIP_Family/AwardType and year\n",
    "qry <- \"\n",
    "SELECT YearAward, ____, count(DISTINCT(SSN)) as num_individuals\n",
    "FROM ds_tn_tbr.dbo.graduations\n",
    "GROUP BY YearAward, ____\n",
    "ORDER BY YearAward ;\n",
    "\"\n",
    "\n",
    "# Read in data frame but don't save the results\n",
    "dbGetQuery(con,qry)"
   ]
  },
  {
   "cell_type": "code",
   "execution_count": null,
   "metadata": {},
   "outputs": [],
   "source": [
    "# Replace ___ in query to understand CIP_Family/AwardType and year\n",
    "qry <- \"\n",
    "SELECT YearAward, ____, count(DISTINCT(SSN)) as num_individuals\n",
    "FROM ds_tn_tbr.dbo.graduations\n",
    "GROUP BY YearAward, ____\n",
    "ORDER BY YearAward ;\n",
    "\"\n",
    "\n",
    "# Read in data frame but don't save the results\n",
    "dbGetQuery(con,qry)"
   ]
  },
  {
   "cell_type": "markdown",
   "metadata": {},
   "source": [
    "-----"
   ]
  },
  {
   "cell_type": "markdown",
   "metadata": {},
   "source": [
    "## **5. Create the Cohort**\n",
    "\n",
    "In this section, we will use the Tennessee `graduations` table to create a sample of all students in TBR institutions who earned a degree or certificate during the 2015-16 academic year. This is not as easy as it looks since we still need to further limit the cohort from our original query that yielded `df` because the academic year is not the same as the calendar year.\n",
    "\n",
    "In addition to establishing a time period, it is common to further narrow your population.  Some research questions require you to select only certain graduates.  Others focus on degree level (associates degree recipients, for example) or field of study (business, for example). When establishing your cohort, it is helpful to build an initial query iteratively, checking each restriction before adding others. To recall, our initial query to yield `df` is\n",
    "\n",
    "    select *\n",
    "    from ds_tn_tbr.dbo.graduations\n",
    "    where YearAward = 2015 or YearAward=2016\n",
    "    \n",
    "Let's keep track of the number of individuals we currently have in `df`."
   ]
  },
  {
   "cell_type": "code",
   "execution_count": null,
   "metadata": {},
   "outputs": [],
   "source": [
    "# see number of individuals in df\n",
    "df %>%\n",
    "    summarize(\n",
    "        num_inds = n_distinct(SSN)\n",
    "    )"
   ]
  },
  {
   "cell_type": "markdown",
   "metadata": {},
   "source": [
    "### Academic Year"
   ]
  },
  {
   "cell_type": "markdown",
   "metadata": {},
   "source": [
    "As previously mentioned, we have not yet limited `df` to just include graduates from the 2015-16 *academic* year, which includes summer 2015, fall 2015, and spring 2016 graduates. Since the data frame also includes academic certificates (which are not included in regular reporting and are not used for funding purposes), we should exclude those as well.\n",
    "\n",
    "To isolate these graduates, we can `filter()` `df` on these requirements."
   ]
  },
  {
   "cell_type": "code",
   "execution_count": null,
   "metadata": {},
   "outputs": [],
   "source": [
    "# isolate 2015-16 academic year graduates\n",
    "df <- df %>%\n",
    "    filter(\n",
    "        (YearAward == 2015 & (trimws(TermDesc) == 'Fall' | trimws(TermDesc) == 'Summer')) |\n",
    "        (YearAward == 2016 & trimws(TermDesc) == 'Spring')\n",
    "    )\n",
    "\n",
    "# see number of individuals in df\n",
    "df %>%\n",
    "    summarize(\n",
    "        num_inds = n_distinct(SSN)\n",
    "    )"
   ]
  },
  {
   "cell_type": "code",
   "execution_count": null,
   "metadata": {},
   "outputs": [],
   "source": [
    "# omit academic certificates\n",
    "df <- df %>%\n",
    "    filter(\n",
    "        (NonAcadem == 1)\n",
    "    )\n",
    "\n",
    "# see number of individuals in df\n",
    "df %>%\n",
    "    summarize(\n",
    "        num_inds = n_distinct(SSN)\n",
    "    )"
   ]
  },
  {
   "cell_type": "markdown",
   "metadata": {},
   "source": [
    "Let's see our breakdown of graduates by term and year to confirm we properly filtered `df`."
   ]
  },
  {
   "cell_type": "code",
   "execution_count": null,
   "metadata": {},
   "outputs": [],
   "source": [
    "# see count of grads by term and year of award\n",
    "df %>%\n",
    "    group_by(YearAward, TermDesc) %>%\n",
    "    summarize(\n",
    "        num_inds = n_distinct(SSN)\n",
    "    )"
   ]
  },
  {
   "cell_type": "markdown",
   "metadata": {},
   "source": [
    "### Associate's degree earners"
   ]
  },
  {
   "cell_type": "markdown",
   "metadata": {},
   "source": [
    "Now that we have isolated all graduates in the 2015-16 academic year, let's turn our attention to associate's degree earners. According to the data documentation, an associate's degree is assigned a `DegreeLevel_c` value of `2`. Before further subsetting `df`, let's take a look at `DegreeLevel_c`."
   ]
  },
  {
   "cell_type": "code",
   "execution_count": null,
   "metadata": {},
   "outputs": [],
   "source": [
    "# count number of graduates by awardtype\n",
    "df %>%\n",
    "    group_by(DegreeLevel_c, DegreeLevel) %>%\n",
    "    summarize(\n",
    "        num_inds = n_distinct(SSN)\n",
    "    )"
   ]
  },
  {
   "cell_type": "markdown",
   "metadata": {},
   "source": [
    "Let's go ahead and `filter` for associate's degree recipients."
   ]
  },
  {
   "cell_type": "code",
   "execution_count": null,
   "metadata": {},
   "outputs": [],
   "source": [
    "# filter for associate's degree recipients\n",
    "df <- df %>%\n",
    "    filter(DegreeLevel_c == 2) "
   ]
  },
  {
   "cell_type": "markdown",
   "metadata": {},
   "source": [
    "#### **Checkpoint 3: Create Your Sample**\n",
    "Starting with the `graduations` table, create a sample of graduates of a separate academic year and award level. Name the data frame `df_checkpoint`."
   ]
  },
  {
   "cell_type": "code",
   "execution_count": null,
   "metadata": {},
   "outputs": [],
   "source": [
    "# Replace ____ \n",
    "qry <- \"\n",
    "select *\n",
    "from ds_tn_tbr.dbo.graduations\n",
    "where YearAward in (___, ___)\n",
    "\"\n",
    "\n",
    "# Read in data frame and save it as df_checkpoint\n",
    "df_checkpoint <- dbGetQuery(con,qry)\n",
    "\n",
    "df_checkpoint <- df_checkpoint %>%\n",
    "    filter(___)"
   ]
  },
  {
   "cell_type": "markdown",
   "metadata": {},
   "source": [
    "## **6. Link data across tables**\n",
    "\n",
    "Now that we have identified a cohort, it is important to link that cohort to other tables to gain further insights. In this example, we will link our data frame of associate's degree recipients in the 2015-16 academic year to the `enrollments` data to gather some of the demographic information captured from the graduated students. First, we will write a query to read some of the demographic information into R so that we can understand how CIP codes and certain demographics may or may not be related.  We don't need all the data in the `enrollments` table because we only need a few characteristics that should not vary by term. As a result, the query below only includes specific columns in the data frame, and enrollment records are limited to those currently in `df`.\n",
    "\n",
    "> Note: The code `WHERE` clause after `SSN IN (` is ONE translation of the R code used up to this point to define `df` written in SQL."
   ]
  },
  {
   "cell_type": "code",
   "execution_count": null,
   "metadata": {},
   "outputs": [],
   "source": [
    "# Query to bring in specific columns in the enrollments table\n",
    "qry <- \"\n",
    "SELECT DISTINCT SSN, Gender, BirthYear\n",
    "FROM ds_tn_tbr.dbo.enrollments\n",
    "WHERE SSN IN (\n",
    "    SELECT SSN\n",
    "    FROM tr_tn_2021.dbo.grads1516\n",
    "    WHERE (\n",
    "        (YearAward = 2015 and TermDesc in ('Fall', 'Summer')) OR (YearAward = 2016 and TermDesc = 'Spring')) AND \n",
    "        NonAcadem = 1 AND\n",
    "        DegreeLevel_c = 2\n",
    "    );\n",
    "\"\n",
    "\n",
    "# Read in data frame and save it as df_demographics\n",
    "df_demographics <- dbGetQuery(con,qry)\n",
    "\n",
    "# see df_demographics\n",
    "glimpse(df_demographics)"
   ]
  },
  {
   "cell_type": "markdown",
   "metadata": {},
   "source": [
    "While these demographics should remain consistent throughout the `enrollments` data for each student, there may be errors or revisions in the data that could ultimately cause multiple records for a student in `df_demographics`. For example, if a male student's gender was reported in one semester but wasn't reported in a subsequent term, there will be a record indicating a gender of male and another with the gender missing. Likewise, a student's birth year may have been reported as 1997 in one term and 1998 in a different term. We can check for this sort of duplication in R, and additional information regarding identifying and managing duplicates will be covered later in this notebook."
   ]
  },
  {
   "cell_type": "code",
   "execution_count": null,
   "metadata": {},
   "outputs": [],
   "source": [
    "# Create a data frame containing the records that have duplicate SSN\n",
    "df_demographic_dup <- df_demographics %>% \n",
    "    count(SSN) %>% \n",
    "    filter(n>1)\n",
    "\n",
    "nrow(df_demographic_dup)"
   ]
  },
  {
   "cell_type": "markdown",
   "metadata": {},
   "source": [
    "As we can see, there are several instances where data that is assumed to be static has been reported differently for different semesters. In other words, duplication may result from an individual who has contrasting demographic information across the enrollment records. So, which record do we choose and how do we implement this choice in the code? You could adjust for this in a number of ways: select the most recent demographic record, select the record that most closely corresponds to the time period of interest (such as the term of graduation), etc. In most cases, you will need to adjust your original SQL query to overcome the duplication issue. \n",
    "\n",
    "We can use a subquery to find the most recent term for which the student enrolled:\n",
    "\n",
    "```\n",
    "SELECT SSN, MAX(TermSeq) as MaxTerm\n",
    "FROM ds_tn_tbr.dbo.enrollments\n",
    "GROUP BY SSN\n",
    "```\n",
    "\n",
    "With the most recent term identified, we can use an inner join to only extract the records where the `TermSeq` matches the `MAX(TermSeq)`."
   ]
  },
  {
   "cell_type": "code",
   "execution_count": null,
   "metadata": {},
   "outputs": [],
   "source": [
    "# Modified query to get most recent demographic record and prevent most common forms of duplication\n",
    "qry <- \"\n",
    "SELECT DISTINCT b.SSN, b.Gender, b.BirthYear\n",
    "FROM (\n",
    "    SELECT SSN, MAX(TermSeq) as MaxTerm\n",
    "    FROM ds_tn_tbr.dbo.enrollments\n",
    "    GROUP BY SSN\n",
    ") a\n",
    "INNER JOIN ds_tn_tbr.dbo.enrollments b\n",
    "ON b.SSN = a.SSN AND b.TermSeq = a.MaxTerm\n",
    "WHERE a.SSN IN (\n",
    "    SELECT SSN\n",
    "    FROM tr_tn_2021.dbo.grads1516\n",
    "    WHERE (\n",
    "        (YearAward = 2015 and TermDesc in ('Fall', 'Summer')) OR (YearAward = 2016 and TermDesc = 'Spring')) AND \n",
    "        NonAcadem = 1 AND\n",
    "        DegreeLevel_c = 2\n",
    "    )\n",
    ";\n",
    "\"\n",
    "\n",
    "# Read in data frame and save it as df_demographics\n",
    "df_demographics <- dbGetQuery(con,qry)\n",
    "\n",
    "# see df_demographics\n",
    "glimpse(df_demographics)"
   ]
  },
  {
   "cell_type": "markdown",
   "metadata": {},
   "source": [
    "There still happens to be one record with inconsistent `BirthYear` values in `df_demographic`. In practice, there are many ways to approach these scenarios. Here, we will select the observation that corresponds to the institution of graduation."
   ]
  },
  {
   "cell_type": "code",
   "execution_count": null,
   "metadata": {},
   "outputs": [],
   "source": [
    "# observation to keep\n",
    "obs_keep <- df_demographics %>% \n",
    "    filter(\n",
    "        SSN == '(REDACTED)',\n",
    "        BirthYear == '1991'\n",
    "    )\n",
    "\n",
    "# insert in only observation to keep for this individual\n",
    "# first will filter out all observations for this individual and then reinsert obs_keep, the one we want to re-add\n",
    "df_demographics<-df_demographics %>%\n",
    "    filter(SSN != '(REDACTED)') %>%\n",
    "    rbind(obs_keep)\n",
    "\n",
    "# make sure same number of rows as number of individuals in df_demographics\n",
    "# will equal TRUE if so\n",
    "df_demographics %>%\n",
    "    summarize(\n",
    "        TEST = n() == n_distinct(SSN)\n",
    "    )"
   ]
  },
  {
   "cell_type": "markdown",
   "metadata": {},
   "source": [
    "Next, we can merge the columns in `df_demographics` for all records in `df` as long as they have the same SSN, as designated by the `SSN` column across the two data frames.  The joining statement in R is as follows:\n",
    "\n",
    "    df <- df %>% \n",
    "        left_join(df_demographics, by = \"SSN\")\n",
    "    \n",
    "A left join is used because we would like to retain all records in the left data frame (`df`) and are only bringing in matched records from the right data frame (`df_demographics`).  Conversely, a right join starts with all the records from the right table and only brings in matched records from the left table, and an inner join only includes records for which there is a match between both tables.  Notice that if the the same column name is used to match the data frames together, you only need to specify the one name for both tables after \"by\".  If the column names are different, you need to declare the column names for the two data frames.\n",
    "\n",
    "> **NOTE:** In this example, we are going to use R to join data frames. As you will see in the next notebook, with larger tables, it is inefficient or at times not possible to bring extremely large tables into R.  As a result, the joins have to be done in SQL prior to bringing the data frame into R."
   ]
  },
  {
   "cell_type": "code",
   "execution_count": null,
   "metadata": {},
   "outputs": [],
   "source": [
    "#Left join cohort to demographic data\n",
    "df <- df %>% \n",
    "    left_join(df_demographics, by = \"SSN\")\n",
    "\n",
    "# See top records in the dataframe\n",
    "df %>% \n",
    "    head()"
   ]
  },
  {
   "cell_type": "markdown",
   "metadata": {},
   "source": [
    "Now that the data frame is finalized, you can manipulate it further based on age.  If, for example, your working group was only interested in adult graduates, the data frame can be filtered and saved with those records.\n",
    "\n",
    "> **NOTE:** `BirthYear` is currently a character-type variable in the data frame and will need to cast as an integer to perform numerical operations. `YearAward` - `BirthYear` will be used to approximate age at graduation."
   ]
  },
  {
   "cell_type": "code",
   "execution_count": null,
   "metadata": {},
   "outputs": [],
   "source": [
    "# Subset the dataframe to specific age group\n",
    "df_adultgrads <- df %>% \n",
    "    filter((YearAward - strtoi(BirthYear)) >= 25)"
   ]
  },
  {
   "cell_type": "markdown",
   "metadata": {},
   "source": [
    "Then you can see the distribution of adult graduates by approximate age."
   ]
  },
  {
   "cell_type": "code",
   "execution_count": null,
   "metadata": {},
   "outputs": [],
   "source": [
    "# see approximate age\n",
    "df_adultgrads %>%\n",
    "    count(YearAward - strtoi(BirthYear))"
   ]
  },
  {
   "cell_type": "markdown",
   "metadata": {},
   "source": [
    "#### Checkpoint 4: Add columns\n",
    "\n",
    "Using the cohort that you created in the previous checkpoint, try to join data from the `enrollments` table and further subset your data frame to non-adult graduates. Save the resulting data frame as `df_checkpoint_age`. "
   ]
  },
  {
   "cell_type": "code",
   "execution_count": null,
   "metadata": {},
   "outputs": [],
   "source": [
    "# Modified query to get most recent demographic record and prevent most common forms of duplication\n",
    "# Replace ___\n",
    "qry <- \"\n",
    "SELECT DISTINCT b.SSN, b.Gender, b.BirthYear\n",
    "FROM (\n",
    "    SELECT SSN, MAX(TermSeq) as MaxTerm\n",
    "    FROM ds_tn_tbr.dbo.enrollments\n",
    "    GROUP BY SSN\n",
    ") a\n",
    "INNER JOIN ds_tn_tbr.dbo.enrollments b\n",
    "ON b.SSN = a.SSN AND b.TermSeq = a.MaxTerm\n",
    "WHERE a.SSN IN (\n",
    "    SELECT SSN\n",
    "    FROM ds_tn_tbr.dbo.graduations\n",
    "    WHERE (\n",
    "        ___\n",
    "    )\n",
    ";\n",
    "\"\n",
    "\n",
    "# Read in data frame and save it as df_demographics_checkpoint\n",
    "df_demographics_checkpoint <- dbGetQuery(con,qry)\n",
    "\n",
    "# see df_demographics_checkpoint\n",
    "glimpse(df_demographics_checkpoint)\n",
    "\n",
    "# ensure no duplicates after taking max semester\n",
    "df_demographics_checkpoint %>%\n",
    "    summarize(\n",
    "        TEST =__ == __\n",
    "    )"
   ]
  },
  {
   "cell_type": "code",
   "execution_count": null,
   "metadata": {},
   "outputs": [],
   "source": [
    "# Add in demographic info\n",
    "df_checkpoint <- df_checkpoint %>%\n",
    "    left_join(df_demographics_checkpoint, by = \"SSN\")\n",
    "\n",
    "# filter for non-adult graduates\n",
    "df_checkpoint_age <- df_checkpoint %>%\n",
    "    filter(___)\n",
    "\n",
    "# See top records in the data frame\n",
    "head(df_checkpoint_age)"
   ]
  },
  {
   "cell_type": "markdown",
   "metadata": {},
   "source": [
    "-----"
   ]
  },
  {
   "cell_type": "markdown",
   "metadata": {},
   "source": [
    "## **7. Higher Education Graduate Cohort Count and Descriptive Statistics**"
   ]
  },
  {
   "cell_type": "markdown",
   "metadata": {},
   "source": [
    "Next we will run some statistics to understand how data are structured in the cohort data frame. Recall that you had already made a data frame on your own, `df`. Here, we will use the same data frame to further examine the data elements. Recall that that each record in our data frame does not represent a person. Each record represents an award or credential (degree or certificate). You can see this by comparing the number of rows, or awards, with the number of graduates."
   ]
  },
  {
   "cell_type": "code",
   "execution_count": null,
   "metadata": {},
   "outputs": [],
   "source": [
    "# compare number of rows to grads\n",
    "df %>% \n",
    "    summarize(\n",
    "        awards=n(), \n",
    "        graduates=n_distinct(SSN)\n",
    "    ) "
   ]
  },
  {
   "cell_type": "markdown",
   "metadata": {},
   "source": [
    "The difference between awards and graduates is due to a subset of students earning multiple degrees. If we didn't restrict `df` to associate's degree earners, there is the potential for students to have earned a certificate and a degree or multiple short-cycle certificates in an academic year. When framing your higher education cohort, you need to ask if you want to de-duplicate the file (by selecting the highest award for example) or if you want to focus on one level of degree. Workforce outcomes may be very different for certificate holders without a degree compared to those with associates degrees. Those with bachelors or graduate degrees are expected to have higher incomes. Three decisions are required to accurately form the cohort:\n",
    "\n",
    "1. What time period are you using to define the cohort (one academic year or multiple academic years)?\n",
    "2. What degree level or levels will you focus on?\n",
    "3. What will you do with duplicate records?\n",
    "\n",
    "In this example, we will review the duplicates to help inform decisions."
   ]
  },
  {
   "cell_type": "markdown",
   "metadata": {},
   "source": [
    "### Duplicates code\n",
    "\n",
    "The series of commands below help identify duplicates, create a data frame of duplicates, and list the results. Before we de-duplicate the files, let's save an award-level (not person-level) file for potential award-based analyses.  We will name this data frame `df_awards`."
   ]
  },
  {
   "cell_type": "code",
   "execution_count": null,
   "metadata": {},
   "outputs": [],
   "source": [
    "# copy df as df_awards\n",
    "df_awards <- df"
   ]
  },
  {
   "cell_type": "markdown",
   "metadata": {},
   "source": [
    "Next we can start to explore the duplicates. First, we will identify a case of duplication, which we can isolate by counting the number of occurrences of each `SSN` in `df`, and then finding the `SSN` with the highest number of occurrences."
   ]
  },
  {
   "cell_type": "code",
   "execution_count": null,
   "metadata": {},
   "outputs": [],
   "source": [
    "# find duplicate example\n",
    "dup_ex <- df %>%\n",
    "    count(SSN) %>%\n",
    "    arrange(desc(n)) %>%\n",
    "    head(1)\n",
    "\n",
    "# see example\n",
    "dup_ex"
   ]
  },
  {
   "cell_type": "markdown",
   "metadata": {},
   "source": [
    "From here, we can find all rows in `df` with the `SSN` in `dup_ex` so we can further explore a duplicated example. We will select certain variables to highlight the duplication."
   ]
  },
  {
   "cell_type": "code",
   "execution_count": null,
   "metadata": {},
   "outputs": [],
   "source": [
    "# see all duplicated rows in example\n",
    "df %>%\n",
    "    filter(SSN == dup_ex$SSN) %>%\n",
    "    select(SSN, YearAward, TermAward, CIP_6, CIP_Family)"
   ]
  },
  {
   "cell_type": "markdown",
   "metadata": {},
   "source": [
    "Sometimes, the CIP family is the same for all duplicates, and that the double or triple awards are nearly equivalent (for example Accounting and Finance OR Business and Marketing) in addition to other true duplicates, based on the columns we selected. We will assume that most degrees are in similar CIP families, thus de-duplicating and taking the most recent record (or one of the most recent if there are multiple). To do so, we will first sort `df`, so that for each `SSN`, the first row is at least one of the most recent degrees. From there, we can use `distinct` to isolate the first row within each `SSN`."
   ]
  },
  {
   "cell_type": "markdown",
   "metadata": {},
   "source": [
    "However, we cannot simply sort by `TermAward` within each `YearAward` as it is currently encoded, since '4' corresponds to the Summer term, '1' to the Fall term and '3' to the Spring term. Instead, we can leverage the `TermSeq` variable, which tracks the term relative to the first term in the `enrollments` and `completions` tables, summer 2009."
   ]
  },
  {
   "cell_type": "code",
   "execution_count": null,
   "metadata": {},
   "outputs": [],
   "source": [
    "# unduplicate cohort\n",
    "df <- df %>%\n",
    "    arrange(SSN, desc(TermSeq)) %>%\n",
    "    distinct(SSN, .keep_all = TRUE)\n",
    "\n",
    "# compare number of rows to grads\n",
    "df %>% \n",
    "    summarize(\n",
    "        awards=n(), \n",
    "        graduates=n_distinct(SSN)\n",
    "    ) "
   ]
  },
  {
   "cell_type": "markdown",
   "metadata": {},
   "source": [
    "Though the sample cohort table for 2015-16 associate's degree earners was created for you in the database, the following code demonstrates how you can create a database table from an R data frame. This can be especially helpful if you want to limit future queries to only include students that are members of the cohort (ultimately improving the efficiency of the query). This code creates the table `grads1516` in the Tennessee training workspace `tr_tn_2021` from the data frame `df`.\n",
    "```\n",
    "qry <- \" use tr_tn_2021;\"\n",
    "DBI::dbExecute(con, qry)\n",
    "\n",
    "\n",
    "DBI::dbWriteTable(\n",
    "    conn = con,\n",
    "    name = DBI::SQL(\"dbo.grads1516\"), \n",
    "    value = df\n",
    ")\n",
    "```"
   ]
  },
  {
   "cell_type": "markdown",
   "metadata": {},
   "source": [
    "#### **Checkpoint 5: Explore duplicates and remove for your cohort**\n",
    "\n",
    "For your data frame `df_checkpoint`, explore and come up with a strategy for removing all duplicates."
   ]
  },
  {
   "cell_type": "code",
   "execution_count": null,
   "metadata": {},
   "outputs": [],
   "source": [
    "# replace ___ with code\n",
    "dup_ex <- __ %>%\n",
    "    count(SSN) %>%\n",
    "    arrange(desc(n)) %>%\n",
    "    head(1)\n",
    "\n",
    "# see example\n",
    "dup_ex"
   ]
  },
  {
   "cell_type": "code",
   "execution_count": null,
   "metadata": {},
   "outputs": [],
   "source": [
    "# see all duplicated rows in example\n",
    "___ %>%\n",
    "    filter(SSN == dup_ex$___) %>%\n",
    "    select(___)"
   ]
  },
  {
   "cell_type": "code",
   "execution_count": null,
   "metadata": {},
   "outputs": [],
   "source": [
    "# unduplicate cohort\n",
    "___ <- ___ %>%\n",
    "    arrange(SSN, ___) %>%\n",
    "    distinct(SSN, .keep_all = TRUE)\n",
    "\n",
    "# compare number of rows to grads\n",
    "___ %>% \n",
    "    summarize(\n",
    "        awards=n(), \n",
    "        graduates=n_distinct(SSN)\n",
    "    ) "
   ]
  },
  {
   "cell_type": "markdown",
   "metadata": {},
   "source": [
    "-----"
   ]
  },
  {
   "cell_type": "markdown",
   "metadata": {},
   "source": [
    "## **8. Exploratory Analysis of the Cohort**\n",
    "\n",
    "In this section we will find out more about our 2015-16 graduating cohort. We will begin by isolating the top 5 majors (via 6-digit CIP codes) using the CIP family.\n",
    "\n",
    "From there we will look to see if there are differences by gender. Understanding these patterns are an important part of understanding potential disparities in employment outcomes.  \n"
   ]
  },
  {
   "cell_type": "markdown",
   "metadata": {},
   "source": [
    "Up to this point, we have identified our cohort (`df`), and removed all duplicates so that they are person-level files.  Let's start by looking at the difference in `CIP_6` compared to `CIP_Family`, based on the granularity we desire in major groups."
   ]
  },
  {
   "cell_type": "markdown",
   "metadata": {},
   "source": [
    "### Major Groupings\n",
    "\n"
   ]
  },
  {
   "cell_type": "code",
   "execution_count": null,
   "metadata": {},
   "outputs": [],
   "source": [
    "## see difference in number of award types between major title and cip family\n",
    "df %>%\n",
    "    summarize(\n",
    "        num_cip_fam = n_distinct(CIP_Family),\n",
    "        num_cip_10 = n_distinct(CIP_6)\n",
    "    )"
   ]
  },
  {
   "cell_type": "markdown",
   "metadata": {},
   "source": [
    "For the sake of this analysis, we will use `CIP_Family`, as we continue our analysis by major. Let's find the 5 most common majors in the cohort."
   ]
  },
  {
   "cell_type": "code",
   "execution_count": null,
   "metadata": {},
   "outputs": [],
   "source": [
    "# 5 most common majors\n",
    "df %>%\n",
    "    count(CIP_Family) %>%\n",
    "    arrange(desc(n)) %>%\n",
    "    head(5)"
   ]
  },
  {
   "cell_type": "markdown",
   "metadata": {},
   "source": [
    "Does this list surprise you? For perspective, we will add in another column tracking the proportion of graduates by major."
   ]
  },
  {
   "cell_type": "code",
   "execution_count": null,
   "metadata": {},
   "outputs": [],
   "source": [
    "# 5 most common majors with proportion\n",
    "df %>%\n",
    "    count(CIP_Family) %>%\n",
    "    arrange(desc(n)) %>%\n",
    "    mutate(\n",
    "        prop = n/sum(n)\n",
    "    ) %>%\n",
    "    head(5)"
   ]
  },
  {
   "cell_type": "markdown",
   "metadata": {},
   "source": [
    "Because we hope to build off of this cursory subgroup analysis in later notebooks, let's save the resulting data frame to `df_common_major`."
   ]
  },
  {
   "cell_type": "code",
   "execution_count": null,
   "metadata": {},
   "outputs": [],
   "source": [
    "# 5 most common majors with proportion\n",
    "df_common_major <- df %>%\n",
    "    count(CIP_Family) %>%\n",
    "    arrange(desc(n)) %>%\n",
    "    mutate(\n",
    "        prop = n/sum(n)\n",
    "    ) %>%\n",
    "    head(5)"
   ]
  },
  {
   "cell_type": "markdown",
   "metadata": {},
   "source": [
    "### Gender\n",
    "\n",
    "Additionally, we can look at the gender breakdown within the cohort using the `Gender` variable."
   ]
  },
  {
   "cell_type": "code",
   "execution_count": null,
   "metadata": {},
   "outputs": [],
   "source": [
    "# gender breakdown\n",
    "df_gender <- df %>%\n",
    "    count(Gender) %>%\n",
    "    arrange(desc(n)) %>%\n",
    "    mutate(\n",
    "        prop = n/sum(n)\n",
    "    )\n",
    "\n",
    "# see df_gender\n",
    "df_gender"
   ]
  },
  {
   "cell_type": "markdown",
   "metadata": {},
   "source": [
    "Does anything stand out about the proportion of graduates by gender? Is this something you would expect to see?"
   ]
  },
  {
   "cell_type": "markdown",
   "metadata": {},
   "source": [
    "### Top Majors by Gender\n",
    "\n",
    "Let's intersect the major breakdown by gender—do the most common majors differ amongst gender groups? Since we are looking at proportions and counts within multiple combinations of subgroups (`CIP_Family` and `Gender`), we need to adjust the code from above a bit. First, we need to calculate the proportion of observations within each `Gender`, hence the `group_by`, and we replace `head` with `slice` to retrieve the top 5 majors within each `Gender` value, instead of returning the top 5 rows as ordered by `Gender`."
   ]
  },
  {
   "cell_type": "code",
   "execution_count": null,
   "metadata": {},
   "outputs": [],
   "source": [
    "# major/gender breakdown\n",
    "df_major_gender <- df %>%\n",
    "    count(CIP_Family, Gender) %>%\n",
    "    arrange(desc(n)) %>%\n",
    "    group_by(Gender) %>%\n",
    "    mutate(\n",
    "        prop = n/sum(n)\n",
    "    ) %>%\n",
    "    arrange(Gender, desc(n)) %>%\n",
    "    slice(1:5)\n",
    "\n",
    "df_major_gender"
   ]
  },
  {
   "cell_type": "markdown",
   "metadata": {},
   "source": [
    "The breakdown above shows that females and males alike choose Liberal Arts & Science as their top major, accounting for about REDACTED and REDACTED of all graduates respectively. Females are more likely to choose Health Professions and Realted Services than males, REDACTED compared to REDACTED. Engineering is the second choice for males while it doesn't make the top 5 for females."
   ]
  },
  {
   "cell_type": "markdown",
   "metadata": {},
   "source": [
    "#### **Checkpoint 6: Common Majors and gender**\n",
    "\n",
    "Using your own data frame, `df_checkpoint`, identify the 5 most common majors overall and by gender. Save these results to `df_checkpoint_common_major` and `df_checkpoint_major_gender`, respectively.\n",
    "\n",
    "Do your results vary drastically from those derived from `df`?"
   ]
  },
  {
   "cell_type": "code",
   "execution_count": null,
   "metadata": {},
   "outputs": [],
   "source": [
    "# find common major\n",
    "df_checkpoint_common_major <- df_checkpoint %>%\n",
    "    ___\n",
    "\n",
    "df_checkpoint_common_major"
   ]
  },
  {
   "cell_type": "code",
   "execution_count": null,
   "metadata": {},
   "outputs": [],
   "source": [
    "# find most common majors by gender\n",
    "df_checkpoint_major_gender <- df_checkpoint %>%\n",
    "    ___\n",
    "\n",
    "df_checkpoint_major_gender"
   ]
  },
  {
   "cell_type": "markdown",
   "metadata": {},
   "source": [
    "## **9. Export Results to .csv Files**"
   ]
  },
  {
   "cell_type": "markdown",
   "metadata": {},
   "source": [
    "Now you have successfully finished defining a cohort and a quick subgroup analysis! The last step is to save your results in .csv files so that we can re-use these results in future notebooks. "
   ]
  },
  {
   "cell_type": "markdown",
   "metadata": {},
   "source": [
    "<font color=red> Note that you need to change the directory in write.csv() statements below. Replace \". .\" with your username.</font>"
   ]
  },
  {
   "cell_type": "code",
   "execution_count": null,
   "metadata": {},
   "outputs": [],
   "source": [
    "# Save dataframes to CSV to use in later notebook\n",
    "\n",
    "# most common majors\n",
    "write_csv(df_common_major, \"U:\\\\..\\\\TN Training\\\\Results\\\\common_major.csv\")\n",
    "\n",
    "# gender breakdown\n",
    "write_csv(df_gender, \"U:\\\\..\\\\TN Training\\\\Results\\\\common_gender.csv\")\n",
    "\n",
    "# most common majors by gender\n",
    "write_csv(df_major_gender, \"U:\\\\..\\\\TN Training\\\\Results\\\\common_major_gender.csv\")"
   ]
  },
  {
   "cell_type": "markdown",
   "metadata": {},
   "source": [
    "# References\n",
    "\n",
    "Simone, Sean, Barrett, Nathan, & Feder, Benjamin. (2022, March 25). Data Exploration for Cohort Analysis using New Jersey Education to Earnings Data System Tables. Zenodo. https://doi.org/10.5281/zenodo.6385510"
   ]
  },
  {
   "cell_type": "code",
   "execution_count": null,
   "metadata": {},
   "outputs": [],
   "source": []
  }
 ],
 "metadata": {
  "kernelspec": {
   "display_name": "R",
   "language": "R",
   "name": "ir"
  },
  "language_info": {
   "codemirror_mode": "r",
   "file_extension": ".r",
   "mimetype": "text/x-r-source",
   "name": "R",
   "pygments_lexer": "r",
   "version": "3.6.3"
  },
  "toc-showtags": false
 },
 "nbformat": 4,
 "nbformat_minor": 4
}
